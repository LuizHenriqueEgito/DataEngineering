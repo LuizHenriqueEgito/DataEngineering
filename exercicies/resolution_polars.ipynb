{
 "cells": [
  {
   "cell_type": "code",
   "execution_count": 1,
   "id": "9c340857-16bb-45d2-be95-7bd851012434",
   "metadata": {},
   "outputs": [],
   "source": [
    "import polars as pl\n",
    "import numpy as np"
   ]
  },
  {
   "cell_type": "code",
   "execution_count": 2,
   "id": "5128c703-4d7c-4756-a07a-753a5d8fec0e",
   "metadata": {
    "scrolled": true
   },
   "outputs": [],
   "source": [
    "# pl.show_versions()"
   ]
  },
  {
   "cell_type": "markdown",
   "id": "5cb6077c-1b70-4f74-8d95-d8f6d4ff50fb",
   "metadata": {},
   "source": [
    "## DataFrame basics\n",
    "\n",
    "### A few of the fundamental routines for selecting, sorting, adding and aggregating data in DataFrames\n",
    "\n",
    "Difficulty: *easy*\n",
    "\n",
    "Note: remember to import numpy using:\n",
    "```python\n",
    "import numpy as np\n",
    "```\n",
    "\n",
    "Consider the following Python dictionary `data` and Python list `labels`:\n",
    "\n",
    "``` python\n",
    "data = {'animal': ['cat', 'cat', 'snake', 'dog', 'dog', 'cat', 'snake', 'cat', 'dog', 'dog'],\n",
    "        'age': [2.5, 3, 0.5, np.nan, 5, 2, 4.5, np.nan, 7, 3],\n",
    "        'visits': [1, 3, 2, 3, 2, 3, 1, 1, 2, 1],\n",
    "        'priority': ['yes', 'yes', 'no', 'yes', 'no', 'no', 'no', 'yes', 'no', 'no']}\n",
    "\n",
    "labels = ['a', 'b', 'c', 'd', 'e', 'f', 'g', 'h', 'i', 'j']\n",
    "```\n",
    "(This is just some meaningless data I made up with the theme of animals and trips to a vet.)\n",
    "\n",
    "**4.** Create a DataFrame `df` from this dictionary `data` which has the index `labels`."
   ]
  },
  {
   "cell_type": "code",
   "execution_count": 3,
   "id": "1014f214-7816-4a89-ba44-6b9c7320a70c",
   "metadata": {},
   "outputs": [],
   "source": [
    "data = {'animal': ['cat', 'cat', 'snake', 'dog', 'dog', 'cat', 'snake', 'cat', 'dog', 'dog'],\n",
    "        'age': [2.5, 3, 0.5, np.nan, 5, 2, 4.5, np.nan, 7, 3],\n",
    "        'visits': [1, 3, 2, 3, 2, 3, 1, 1, 2, 1],\n",
    "        'priority': ['yes', 'yes', 'no', 'yes', 'no', 'no', 'no', 'yes', 'no', 'no']}\n",
    "\n",
    "labels = ['a', 'b', 'c', 'd', 'e', 'f', 'g', 'h', 'i', 'j']"
   ]
  },
  {
   "cell_type": "code",
   "execution_count": 6,
   "id": "7795b3df-05ad-4cee-ae07-4b3215af3c3f",
   "metadata": {},
   "outputs": [],
   "source": [
    "# polars do not use indexes\n",
    "data['index'] = labels\n",
    "df = pl.DataFrame(data=data)"
   ]
  },
  {
   "cell_type": "code",
   "execution_count": 9,
   "id": "0059021d-f894-4c28-a96b-4fa6812b2228",
   "metadata": {},
   "outputs": [
    {
     "data": {
      "text/html": [
       "<div><style>\n",
       ".dataframe > thead > tr,\n",
       ".dataframe > tbody > tr {\n",
       "  text-align: right;\n",
       "  white-space: pre-wrap;\n",
       "}\n",
       "</style>\n",
       "<small>shape: (5, 6)</small><table border=\"1\" class=\"dataframe\"><thead><tr><th>id</th><th>animal</th><th>age</th><th>visits</th><th>priority</th><th>index</th></tr><tr><td>u32</td><td>str</td><td>f64</td><td>i64</td><td>str</td><td>str</td></tr></thead><tbody><tr><td>0</td><td>&quot;cat&quot;</td><td>2.5</td><td>1</td><td>&quot;yes&quot;</td><td>&quot;a&quot;</td></tr><tr><td>1</td><td>&quot;cat&quot;</td><td>3.0</td><td>3</td><td>&quot;yes&quot;</td><td>&quot;b&quot;</td></tr><tr><td>2</td><td>&quot;snake&quot;</td><td>0.5</td><td>2</td><td>&quot;no&quot;</td><td>&quot;c&quot;</td></tr><tr><td>3</td><td>&quot;dog&quot;</td><td>NaN</td><td>3</td><td>&quot;yes&quot;</td><td>&quot;d&quot;</td></tr><tr><td>4</td><td>&quot;dog&quot;</td><td>5.0</td><td>2</td><td>&quot;no&quot;</td><td>&quot;e&quot;</td></tr></tbody></table></div>"
      ],
      "text/plain": [
       "shape: (5, 6)\n",
       "┌─────┬────────┬─────┬────────┬──────────┬───────┐\n",
       "│ id  ┆ animal ┆ age ┆ visits ┆ priority ┆ index │\n",
       "│ --- ┆ ---    ┆ --- ┆ ---    ┆ ---      ┆ ---   │\n",
       "│ u32 ┆ str    ┆ f64 ┆ i64    ┆ str      ┆ str   │\n",
       "╞═════╪════════╪═════╪════════╪══════════╪═══════╡\n",
       "│ 0   ┆ cat    ┆ 2.5 ┆ 1      ┆ yes      ┆ a     │\n",
       "│ 1   ┆ cat    ┆ 3.0 ┆ 3      ┆ yes      ┆ b     │\n",
       "│ 2   ┆ snake  ┆ 0.5 ┆ 2      ┆ no       ┆ c     │\n",
       "│ 3   ┆ dog    ┆ NaN ┆ 3      ┆ yes      ┆ d     │\n",
       "│ 4   ┆ dog    ┆ 5.0 ┆ 2      ┆ no       ┆ e     │\n",
       "└─────┴────────┴─────┴────────┴──────────┴───────┘"
      ]
     },
     "execution_count": 9,
     "metadata": {},
     "output_type": "execute_result"
    }
   ],
   "source": [
    "# Add a index\n",
    "# offset must be an integer\n",
    "df.with_row_index(\"id\", offset=0).head()"
   ]
  },
  {
   "cell_type": "code",
   "execution_count": 10,
   "id": "cdfadf58-a5e6-47f3-8e0e-fceef11b97ec",
   "metadata": {},
   "outputs": [
    {
     "data": {
      "text/html": [
       "<div><style>\n",
       ".dataframe > thead > tr,\n",
       ".dataframe > tbody > tr {\n",
       "  text-align: right;\n",
       "  white-space: pre-wrap;\n",
       "}\n",
       "</style>\n",
       "<small>shape: (5, 5)</small><table border=\"1\" class=\"dataframe\"><thead><tr><th>animal</th><th>age</th><th>visits</th><th>priority</th><th>index</th></tr><tr><td>str</td><td>f64</td><td>i64</td><td>str</td><td>str</td></tr></thead><tbody><tr><td>&quot;cat&quot;</td><td>2.5</td><td>1</td><td>&quot;yes&quot;</td><td>&quot;a&quot;</td></tr><tr><td>&quot;cat&quot;</td><td>3.0</td><td>3</td><td>&quot;yes&quot;</td><td>&quot;b&quot;</td></tr><tr><td>&quot;snake&quot;</td><td>0.5</td><td>2</td><td>&quot;no&quot;</td><td>&quot;c&quot;</td></tr><tr><td>&quot;dog&quot;</td><td>NaN</td><td>3</td><td>&quot;yes&quot;</td><td>&quot;d&quot;</td></tr><tr><td>&quot;dog&quot;</td><td>5.0</td><td>2</td><td>&quot;no&quot;</td><td>&quot;e&quot;</td></tr></tbody></table></div>"
      ],
      "text/plain": [
       "shape: (5, 5)\n",
       "┌────────┬─────┬────────┬──────────┬───────┐\n",
       "│ animal ┆ age ┆ visits ┆ priority ┆ index │\n",
       "│ ---    ┆ --- ┆ ---    ┆ ---      ┆ ---   │\n",
       "│ str    ┆ f64 ┆ i64    ┆ str      ┆ str   │\n",
       "╞════════╪═════╪════════╪══════════╪═══════╡\n",
       "│ cat    ┆ 2.5 ┆ 1      ┆ yes      ┆ a     │\n",
       "│ cat    ┆ 3.0 ┆ 3      ┆ yes      ┆ b     │\n",
       "│ snake  ┆ 0.5 ┆ 2      ┆ no       ┆ c     │\n",
       "│ dog    ┆ NaN ┆ 3      ┆ yes      ┆ d     │\n",
       "│ dog    ┆ 5.0 ┆ 2      ┆ no       ┆ e     │\n",
       "└────────┴─────┴────────┴──────────┴───────┘"
      ]
     },
     "execution_count": 10,
     "metadata": {},
     "output_type": "execute_result"
    }
   ],
   "source": [
    "# See the first data\n",
    "df.head()"
   ]
  },
  {
   "cell_type": "code",
   "execution_count": 11,
   "id": "b0a87988-8b51-4b41-b547-8e7d057c5a02",
   "metadata": {},
   "outputs": [
    {
     "name": "stdout",
     "output_type": "stream",
     "text": [
      "shape: (10, 5)\n",
      "┌────────┬─────┬────────┬──────────┬───────┐\n",
      "│ animal ┆ age ┆ visits ┆ priority ┆ index │\n",
      "│ ---    ┆ --- ┆ ---    ┆ ---      ┆ ---   │\n",
      "│ str    ┆ f64 ┆ i64    ┆ str      ┆ str   │\n",
      "╞════════╪═════╪════════╪══════════╪═══════╡\n",
      "│ cat    ┆ 2.5 ┆ 1      ┆ yes      ┆ a     │\n",
      "│ cat    ┆ 3.0 ┆ 3      ┆ yes      ┆ b     │\n",
      "│ snake  ┆ 0.5 ┆ 2      ┆ no       ┆ c     │\n",
      "│ dog    ┆ NaN ┆ 3      ┆ yes      ┆ d     │\n",
      "│ dog    ┆ 5.0 ┆ 2      ┆ no       ┆ e     │\n",
      "│ cat    ┆ 2.0 ┆ 3      ┆ no       ┆ f     │\n",
      "│ snake  ┆ 4.5 ┆ 1      ┆ no       ┆ g     │\n",
      "│ cat    ┆ NaN ┆ 1      ┆ yes      ┆ h     │\n",
      "│ dog    ┆ 7.0 ┆ 2      ┆ no       ┆ i     │\n",
      "│ dog    ┆ 3.0 ┆ 1      ┆ no       ┆ j     │\n",
      "└────────┴─────┴────────┴──────────┴───────┘\n"
     ]
    }
   ],
   "source": [
    "print(df)"
   ]
  },
  {
   "cell_type": "code",
   "execution_count": 15,
   "id": "91b023cb-5cbe-4674-b7a6-f1ff8184c66f",
   "metadata": {},
   "outputs": [
    {
     "name": "stdout",
     "output_type": "stream",
     "text": [
      "shape: (9, 6)\n",
      "┌────────────┬────────┬──────┬──────────┬──────────┬───────┐\n",
      "│ statistic  ┆ animal ┆ age  ┆ visits   ┆ priority ┆ index │\n",
      "│ ---        ┆ ---    ┆ ---  ┆ ---      ┆ ---      ┆ ---   │\n",
      "│ str        ┆ str    ┆ f64  ┆ f64      ┆ str      ┆ str   │\n",
      "╞════════════╪════════╪══════╪══════════╪══════════╪═══════╡\n",
      "│ count      ┆ 10     ┆ 10.0 ┆ 10.0     ┆ 10       ┆ 10    │\n",
      "│ null_count ┆ 0      ┆ 0.0  ┆ 0.0      ┆ 0        ┆ 0     │\n",
      "│ mean       ┆ null   ┆ NaN  ┆ 1.9      ┆ null     ┆ null  │\n",
      "│ std        ┆ null   ┆ NaN  ┆ 0.875595 ┆ null     ┆ null  │\n",
      "│ min        ┆ cat    ┆ 0.5  ┆ 1.0      ┆ no       ┆ a     │\n",
      "│ 25%        ┆ null   ┆ 2.5  ┆ 1.0      ┆ null     ┆ null  │\n",
      "│ 50%        ┆ null   ┆ 4.5  ┆ 2.0      ┆ null     ┆ null  │\n",
      "│ 75%        ┆ null   ┆ 7.0  ┆ 3.0      ┆ null     ┆ null  │\n",
      "│ max        ┆ snake  ┆ 7.0  ┆ 3.0      ┆ yes      ┆ j     │\n",
      "└────────────┴────────┴──────┴──────────┴──────────┴───────┘\n"
     ]
    }
   ],
   "source": [
    "# Describe the dataframe\n",
    "print(df.describe())"
   ]
  },
  {
   "cell_type": "code",
   "execution_count": 13,
   "id": "4ad631ad-f996-41dc-afc1-82209f76248b",
   "metadata": {},
   "outputs": [
    {
     "data": {
      "text/plain": [
       "'no'"
      ]
     },
     "execution_count": 13,
     "metadata": {},
     "output_type": "execute_result"
    }
   ],
   "source": [
    "# this works like pandas iloc\n",
    "# taking the 3nd row 4rd column (you need to return a number because in python the count starts at 0!)\n",
    "df.row(2)[3]"
   ]
  },
  {
   "cell_type": "code",
   "execution_count": 14,
   "id": "8b1754e7-e608-4751-9c3e-cec13ec7a56a",
   "metadata": {},
   "outputs": [
    {
     "data": {
      "text/html": [
       "<div><style>\n",
       ".dataframe > thead > tr,\n",
       ".dataframe > tbody > tr {\n",
       "  text-align: right;\n",
       "  white-space: pre-wrap;\n",
       "}\n",
       "</style>\n",
       "<small>shape: (3, 5)</small><table border=\"1\" class=\"dataframe\"><thead><tr><th>animal</th><th>age</th><th>visits</th><th>priority</th><th>index</th></tr><tr><td>str</td><td>f64</td><td>i64</td><td>str</td><td>str</td></tr></thead><tbody><tr><td>&quot;cat&quot;</td><td>2.5</td><td>1</td><td>&quot;yes&quot;</td><td>&quot;a&quot;</td></tr><tr><td>&quot;cat&quot;</td><td>3.0</td><td>3</td><td>&quot;yes&quot;</td><td>&quot;b&quot;</td></tr><tr><td>&quot;snake&quot;</td><td>0.5</td><td>2</td><td>&quot;no&quot;</td><td>&quot;c&quot;</td></tr></tbody></table></div>"
      ],
      "text/plain": [
       "shape: (3, 5)\n",
       "┌────────┬─────┬────────┬──────────┬───────┐\n",
       "│ animal ┆ age ┆ visits ┆ priority ┆ index │\n",
       "│ ---    ┆ --- ┆ ---    ┆ ---      ┆ ---   │\n",
       "│ str    ┆ f64 ┆ i64    ┆ str      ┆ str   │\n",
       "╞════════╪═════╪════════╪══════════╪═══════╡\n",
       "│ cat    ┆ 2.5 ┆ 1      ┆ yes      ┆ a     │\n",
       "│ cat    ┆ 3.0 ┆ 3      ┆ yes      ┆ b     │\n",
       "│ snake  ┆ 0.5 ┆ 2      ┆ no       ┆ c     │\n",
       "└────────┴─────┴────────┴──────────┴───────┘"
      ]
     },
     "execution_count": 14,
     "metadata": {},
     "output_type": "execute_result"
    }
   ],
   "source": [
    "# this works like pandas df.iloc[:3, :]\n",
    "# take the first 3 rows and all columns\n",
    "df.slice(0, 3)"
   ]
  },
  {
   "cell_type": "code",
   "execution_count": 24,
   "id": "96b02817-60fd-4e93-a3ab-f3bab35ec4ae",
   "metadata": {},
   "outputs": [
    {
     "data": {
      "text/html": [
       "<div><style>\n",
       ".dataframe > thead > tr,\n",
       ".dataframe > tbody > tr {\n",
       "  text-align: right;\n",
       "  white-space: pre-wrap;\n",
       "}\n",
       "</style>\n",
       "<small>shape: (10, 2)</small><table border=\"1\" class=\"dataframe\"><thead><tr><th>animal</th><th>age</th></tr><tr><td>str</td><td>f64</td></tr></thead><tbody><tr><td>&quot;cat&quot;</td><td>2.5</td></tr><tr><td>&quot;cat&quot;</td><td>3.0</td></tr><tr><td>&quot;snake&quot;</td><td>0.5</td></tr><tr><td>&quot;dog&quot;</td><td>NaN</td></tr><tr><td>&quot;dog&quot;</td><td>5.0</td></tr><tr><td>&quot;cat&quot;</td><td>2.0</td></tr><tr><td>&quot;snake&quot;</td><td>4.5</td></tr><tr><td>&quot;cat&quot;</td><td>NaN</td></tr><tr><td>&quot;dog&quot;</td><td>7.0</td></tr><tr><td>&quot;dog&quot;</td><td>3.0</td></tr></tbody></table></div>"
      ],
      "text/plain": [
       "shape: (10, 2)\n",
       "┌────────┬─────┐\n",
       "│ animal ┆ age │\n",
       "│ ---    ┆ --- │\n",
       "│ str    ┆ f64 │\n",
       "╞════════╪═════╡\n",
       "│ cat    ┆ 2.5 │\n",
       "│ cat    ┆ 3.0 │\n",
       "│ snake  ┆ 0.5 │\n",
       "│ dog    ┆ NaN │\n",
       "│ dog    ┆ 5.0 │\n",
       "│ cat    ┆ 2.0 │\n",
       "│ snake  ┆ 4.5 │\n",
       "│ cat    ┆ NaN │\n",
       "│ dog    ┆ 7.0 │\n",
       "│ dog    ┆ 3.0 │\n",
       "└────────┴─────┘"
      ]
     },
     "execution_count": 24,
     "metadata": {},
     "output_type": "execute_result"
    }
   ],
   "source": [
    "# Selects only the desired columns\n",
    "df.select([\"animal\", \"age\"])\n",
    "df[[\"animal\", \"age\"]]"
   ]
  },
  {
   "cell_type": "code",
   "execution_count": 17,
   "id": "7add3ce3-b06a-43ae-95f6-926a11061f66",
   "metadata": {},
   "outputs": [
    {
     "data": {
      "text/html": [
       "<div><style>\n",
       ".dataframe > thead > tr,\n",
       ".dataframe > tbody > tr {\n",
       "  text-align: right;\n",
       "  white-space: pre-wrap;\n",
       "}\n",
       "</style>\n",
       "<small>shape: (5, 2)</small><table border=\"1\" class=\"dataframe\"><thead><tr><th>animal</th><th>age</th></tr><tr><td>str</td><td>f64</td></tr></thead><tbody><tr><td>&quot;cat&quot;</td><td>2.0</td></tr><tr><td>&quot;snake&quot;</td><td>4.5</td></tr><tr><td>&quot;cat&quot;</td><td>NaN</td></tr><tr><td>&quot;dog&quot;</td><td>7.0</td></tr><tr><td>&quot;dog&quot;</td><td>3.0</td></tr></tbody></table></div>"
      ],
      "text/plain": [
       "shape: (5, 2)\n",
       "┌────────┬─────┐\n",
       "│ animal ┆ age │\n",
       "│ ---    ┆ --- │\n",
       "│ str    ┆ f64 │\n",
       "╞════════╪═════╡\n",
       "│ cat    ┆ 2.0 │\n",
       "│ snake  ┆ 4.5 │\n",
       "│ cat    ┆ NaN │\n",
       "│ dog    ┆ 7.0 │\n",
       "│ dog    ┆ 3.0 │\n",
       "└────────┴─────┘"
      ]
     },
     "execution_count": 17,
     "metadata": {},
     "output_type": "execute_result"
    }
   ],
   "source": [
    "df.select([\"animal\", \"age\"]).slice(5, 5)"
   ]
  },
  {
   "cell_type": "code",
   "execution_count": 15,
   "id": "3e6faed3-0b44-4ac5-8857-19c0184a635f",
   "metadata": {},
   "outputs": [
    {
     "data": {
      "text/plain": [
       "Schema([('animal', String),\n",
       "        ('age', Float64),\n",
       "        ('visits', Int64),\n",
       "        ('priority', String),\n",
       "        ('index', String)])"
      ]
     },
     "execution_count": 15,
     "metadata": {},
     "output_type": "execute_result"
    }
   ],
   "source": [
    "# Explains about dataframe\n",
    "df.schema"
   ]
  },
  {
   "cell_type": "markdown",
   "id": "dbd77ff4-3db2-47e6-8001-5ab3ef5a9411",
   "metadata": {},
   "source": [
    "**9.** Select only the rows where the number of visits is greater than 3."
   ]
  },
  {
   "cell_type": "code",
   "execution_count": 18,
   "id": "6584d39d-2ff7-4d62-a730-aeefb2f5a02d",
   "metadata": {},
   "outputs": [
    {
     "data": {
      "text/html": [
       "<div><style>\n",
       ".dataframe > thead > tr,\n",
       ".dataframe > tbody > tr {\n",
       "  text-align: right;\n",
       "  white-space: pre-wrap;\n",
       "}\n",
       "</style>\n",
       "<small>shape: (0, 5)</small><table border=\"1\" class=\"dataframe\"><thead><tr><th>animal</th><th>age</th><th>visits</th><th>priority</th><th>index</th></tr><tr><td>str</td><td>f64</td><td>i64</td><td>str</td><td>str</td></tr></thead><tbody></tbody></table></div>"
      ],
      "text/plain": [
       "shape: (0, 5)\n",
       "┌────────┬─────┬────────┬──────────┬───────┐\n",
       "│ animal ┆ age ┆ visits ┆ priority ┆ index │\n",
       "│ ---    ┆ --- ┆ ---    ┆ ---      ┆ ---   │\n",
       "│ str    ┆ f64 ┆ i64    ┆ str      ┆ str   │\n",
       "╞════════╪═════╪════════╪══════════╪═══════╡\n",
       "└────────┴─────┴────────┴──────────┴───────┘"
      ]
     },
     "execution_count": 18,
     "metadata": {},
     "output_type": "execute_result"
    }
   ],
   "source": [
    "df.filter(df['visits'] > 3)"
   ]
  },
  {
   "cell_type": "code",
   "execution_count": 21,
   "id": "04a3d8fe-047a-442a-9508-9b7d2fd588a8",
   "metadata": {},
   "outputs": [
    {
     "data": {
      "text/html": [
       "<div><style>\n",
       ".dataframe > thead > tr,\n",
       ".dataframe > tbody > tr {\n",
       "  text-align: right;\n",
       "  white-space: pre-wrap;\n",
       "}\n",
       "</style>\n",
       "<small>shape: (0, 5)</small><table border=\"1\" class=\"dataframe\"><thead><tr><th>animal</th><th>age</th><th>visits</th><th>priority</th><th>index</th></tr><tr><td>str</td><td>f64</td><td>i64</td><td>str</td><td>str</td></tr></thead><tbody></tbody></table></div>"
      ],
      "text/plain": [
       "shape: (0, 5)\n",
       "┌────────┬─────┬────────┬──────────┬───────┐\n",
       "│ animal ┆ age ┆ visits ┆ priority ┆ index │\n",
       "│ ---    ┆ --- ┆ ---    ┆ ---      ┆ ---   │\n",
       "│ str    ┆ f64 ┆ i64    ┆ str      ┆ str   │\n",
       "╞════════╪═════╪════════╪══════════╪═══════╡\n",
       "└────────┴─────┴────────┴──────────┴───────┘"
      ]
     },
     "execution_count": 21,
     "metadata": {},
     "output_type": "execute_result"
    }
   ],
   "source": [
    "df.filter(pl.col('visits') > 3)"
   ]
  },
  {
   "cell_type": "markdown",
   "id": "ea922aaf-eba5-44de-84d3-b041427698d6",
   "metadata": {},
   "source": [
    "**10.** Select the rows where the age is missing, i.e. it is `NaN`."
   ]
  },
  {
   "cell_type": "code",
   "execution_count": 28,
   "id": "6cf12a97-7aaf-4a77-923e-1525f8deb13e",
   "metadata": {},
   "outputs": [
    {
     "data": {
      "text/html": [
       "<div><style>\n",
       ".dataframe > thead > tr,\n",
       ".dataframe > tbody > tr {\n",
       "  text-align: right;\n",
       "  white-space: pre-wrap;\n",
       "}\n",
       "</style>\n",
       "<small>shape: (2, 5)</small><table border=\"1\" class=\"dataframe\"><thead><tr><th>animal</th><th>age</th><th>visits</th><th>priority</th><th>index</th></tr><tr><td>str</td><td>f64</td><td>i64</td><td>str</td><td>str</td></tr></thead><tbody><tr><td>&quot;dog&quot;</td><td>NaN</td><td>3</td><td>&quot;yes&quot;</td><td>&quot;d&quot;</td></tr><tr><td>&quot;cat&quot;</td><td>NaN</td><td>1</td><td>&quot;yes&quot;</td><td>&quot;h&quot;</td></tr></tbody></table></div>"
      ],
      "text/plain": [
       "shape: (2, 5)\n",
       "┌────────┬─────┬────────┬──────────┬───────┐\n",
       "│ animal ┆ age ┆ visits ┆ priority ┆ index │\n",
       "│ ---    ┆ --- ┆ ---    ┆ ---      ┆ ---   │\n",
       "│ str    ┆ f64 ┆ i64    ┆ str      ┆ str   │\n",
       "╞════════╪═════╪════════╪══════════╪═══════╡\n",
       "│ dog    ┆ NaN ┆ 3      ┆ yes      ┆ d     │\n",
       "│ cat    ┆ NaN ┆ 1      ┆ yes      ┆ h     │\n",
       "└────────┴─────┴────────┴──────────┴───────┘"
      ]
     },
     "execution_count": 28,
     "metadata": {},
     "output_type": "execute_result"
    }
   ],
   "source": [
    "# Use is_nan or is_not_nan\n",
    "df.filter(pl.col('age').is_nan())"
   ]
  },
  {
   "cell_type": "markdown",
   "id": "e70f3a7c-3234-4188-b587-4ed84607df7b",
   "metadata": {},
   "source": [
    "**11.** Select the rows where the animal is a cat *and* the age is less than 3."
   ]
  },
  {
   "cell_type": "code",
   "execution_count": 30,
   "id": "7c7737db-73d1-4a0b-aa6d-bc274138b804",
   "metadata": {},
   "outputs": [
    {
     "data": {
      "text/html": [
       "<div><style>\n",
       ".dataframe > thead > tr,\n",
       ".dataframe > tbody > tr {\n",
       "  text-align: right;\n",
       "  white-space: pre-wrap;\n",
       "}\n",
       "</style>\n",
       "<small>shape: (2, 5)</small><table border=\"1\" class=\"dataframe\"><thead><tr><th>animal</th><th>age</th><th>visits</th><th>priority</th><th>index</th></tr><tr><td>str</td><td>f64</td><td>i64</td><td>str</td><td>str</td></tr></thead><tbody><tr><td>&quot;cat&quot;</td><td>2.5</td><td>1</td><td>&quot;yes&quot;</td><td>&quot;a&quot;</td></tr><tr><td>&quot;cat&quot;</td><td>2.0</td><td>3</td><td>&quot;no&quot;</td><td>&quot;f&quot;</td></tr></tbody></table></div>"
      ],
      "text/plain": [
       "shape: (2, 5)\n",
       "┌────────┬─────┬────────┬──────────┬───────┐\n",
       "│ animal ┆ age ┆ visits ┆ priority ┆ index │\n",
       "│ ---    ┆ --- ┆ ---    ┆ ---      ┆ ---   │\n",
       "│ str    ┆ f64 ┆ i64    ┆ str      ┆ str   │\n",
       "╞════════╪═════╪════════╪══════════╪═══════╡\n",
       "│ cat    ┆ 2.5 ┆ 1      ┆ yes      ┆ a     │\n",
       "│ cat    ┆ 2.0 ┆ 3      ┆ no       ┆ f     │\n",
       "└────────┴─────┴────────┴──────────┴───────┘"
      ]
     },
     "execution_count": 30,
     "metadata": {},
     "output_type": "execute_result"
    }
   ],
   "source": [
    "df.filter(\n",
    "    (pl.col('animal') == 'cat') & \n",
    "    (pl.col('age') < 3)\n",
    ")"
   ]
  },
  {
   "cell_type": "markdown",
   "id": "960ff027-4980-47c1-ae9a-3b566697f3dc",
   "metadata": {},
   "source": [
    "**12.** Select the rows the age is between 2 and 4 (inclusive)."
   ]
  },
  {
   "cell_type": "code",
   "execution_count": 31,
   "id": "61ba3333-ba68-47d5-8394-c334e0a088b7",
   "metadata": {},
   "outputs": [
    {
     "data": {
      "text/html": [
       "<div><style>\n",
       ".dataframe > thead > tr,\n",
       ".dataframe > tbody > tr {\n",
       "  text-align: right;\n",
       "  white-space: pre-wrap;\n",
       "}\n",
       "</style>\n",
       "<small>shape: (4, 5)</small><table border=\"1\" class=\"dataframe\"><thead><tr><th>animal</th><th>age</th><th>visits</th><th>priority</th><th>index</th></tr><tr><td>str</td><td>f64</td><td>i64</td><td>str</td><td>str</td></tr></thead><tbody><tr><td>&quot;cat&quot;</td><td>2.5</td><td>1</td><td>&quot;yes&quot;</td><td>&quot;a&quot;</td></tr><tr><td>&quot;cat&quot;</td><td>3.0</td><td>3</td><td>&quot;yes&quot;</td><td>&quot;b&quot;</td></tr><tr><td>&quot;cat&quot;</td><td>2.0</td><td>3</td><td>&quot;no&quot;</td><td>&quot;f&quot;</td></tr><tr><td>&quot;dog&quot;</td><td>3.0</td><td>1</td><td>&quot;no&quot;</td><td>&quot;j&quot;</td></tr></tbody></table></div>"
      ],
      "text/plain": [
       "shape: (4, 5)\n",
       "┌────────┬─────┬────────┬──────────┬───────┐\n",
       "│ animal ┆ age ┆ visits ┆ priority ┆ index │\n",
       "│ ---    ┆ --- ┆ ---    ┆ ---      ┆ ---   │\n",
       "│ str    ┆ f64 ┆ i64    ┆ str      ┆ str   │\n",
       "╞════════╪═════╪════════╪══════════╪═══════╡\n",
       "│ cat    ┆ 2.5 ┆ 1      ┆ yes      ┆ a     │\n",
       "│ cat    ┆ 3.0 ┆ 3      ┆ yes      ┆ b     │\n",
       "│ cat    ┆ 2.0 ┆ 3      ┆ no       ┆ f     │\n",
       "│ dog    ┆ 3.0 ┆ 1      ┆ no       ┆ j     │\n",
       "└────────┴─────┴────────┴──────────┴───────┘"
      ]
     },
     "execution_count": 31,
     "metadata": {},
     "output_type": "execute_result"
    }
   ],
   "source": [
    "df.filter(pl.col('age').is_between(2, 4))"
   ]
  },
  {
   "cell_type": "markdown",
   "id": "a91b62c0-5d70-41f2-aced-dae39b83b4da",
   "metadata": {},
   "source": [
    "**13.** Change the age in row 'f' to 1.5."
   ]
  },
  {
   "cell_type": "code",
   "execution_count": 50,
   "id": "2ed7a2ec-80e4-43aa-ab01-58cca7e78d74",
   "metadata": {},
   "outputs": [],
   "source": [
    "df = df.with_columns(\n",
    "    pl.when(pl.col('index') == 'f')\n",
    "    .then(1.5)\n",
    "    .otherwise(pl.col('age'))\n",
    "    .alias('age')\n",
    ")"
   ]
  },
  {
   "cell_type": "markdown",
   "id": "a943b79f-4589-498a-983e-8e58db3fc2d0",
   "metadata": {},
   "source": [
    "**14.** Calculate the sum of all visits in `df` (i.e. the total number of visits)."
   ]
  },
  {
   "cell_type": "code",
   "execution_count": 34,
   "id": "f55bef36-89cb-4682-b9cf-b75ad60ef1c1",
   "metadata": {},
   "outputs": [
    {
     "data": {
      "text/plain": [
       "19"
      ]
     },
     "execution_count": 34,
     "metadata": {},
     "output_type": "execute_result"
    }
   ],
   "source": [
    "df['visits'].sum()"
   ]
  },
  {
   "cell_type": "markdown",
   "id": "d521483a-bb3b-4144-b125-a369dcc6b660",
   "metadata": {},
   "source": [
    "**15.** Calculate the mean age for each different animal in `df`."
   ]
  },
  {
   "cell_type": "code",
   "execution_count": 64,
   "id": "7a2d1e4f-1ce2-4e54-8a9a-6b4b40ec658f",
   "metadata": {},
   "outputs": [
    {
     "name": "stdout",
     "output_type": "stream",
     "text": [
      "shape: (3, 2)\n",
      "┌────────┬──────────┐\n",
      "│ animal ┆ mean_age │\n",
      "│ ---    ┆ ---      │\n",
      "│ str    ┆ f64      │\n",
      "╞════════╪══════════╡\n",
      "│ snake  ┆ 2.5      │\n",
      "│ dog    ┆ 5.0      │\n",
      "│ cat    ┆ 2.333333 │\n",
      "└────────┴──────────┘\n"
     ]
    }
   ],
   "source": [
    "# It is necessary to remove the nulls because it does not remove them alone\n",
    "print(df.drop_nans().group_by(\"animal\").agg(\n",
    "    pl.col(\"age\").mean().alias(\"mean_age\")\n",
    "))"
   ]
  },
  {
   "cell_type": "markdown",
   "id": "464badcc-63c4-4b75-b44c-45b34533f392",
   "metadata": {},
   "source": [
    "**16.** Append a new row 'k' to `df` with your choice of values for each column. Then delete that row to return the original DataFrame."
   ]
  },
  {
   "cell_type": "code",
   "execution_count": 52,
   "id": "311b8862-1b02-4f8a-9765-b82ea5566e7f",
   "metadata": {},
   "outputs": [
    {
     "data": {
      "text/plain": [
       "['animal', 'age', 'visits', 'priority', 'index']"
      ]
     },
     "execution_count": 52,
     "metadata": {},
     "output_type": "execute_result"
    }
   ],
   "source": [
    "df.columns"
   ]
  },
  {
   "cell_type": "code",
   "execution_count": 55,
   "id": "63c878d0-fc97-4982-9b17-48a776d91e16",
   "metadata": {},
   "outputs": [],
   "source": [
    "# you need to create a new dataframe and then concat it\n",
    "new_row = {\n",
    "    'animal': 'dog',\n",
    "    'age': 5.5,\n",
    "    'visits': 2,\n",
    "    'priority': 'no',\n",
    "    'index': 'k'\n",
    "}\n",
    "new_df = pl.DataFrame(new_row)\n",
    "df = pl.concat([df, new_df]) "
   ]
  },
  {
   "cell_type": "code",
   "execution_count": 63,
   "id": "a932b122-64a6-4734-8b40-5f787259e31c",
   "metadata": {},
   "outputs": [
    {
     "name": "stdout",
     "output_type": "stream",
     "text": [
      "shape: (10, 5)\n",
      "┌────────┬─────┬────────┬──────────┬───────┐\n",
      "│ animal ┆ age ┆ visits ┆ priority ┆ index │\n",
      "│ ---    ┆ --- ┆ ---    ┆ ---      ┆ ---   │\n",
      "│ str    ┆ f64 ┆ i64    ┆ str      ┆ str   │\n",
      "╞════════╪═════╪════════╪══════════╪═══════╡\n",
      "│ cat    ┆ 2.5 ┆ 1      ┆ yes      ┆ a     │\n",
      "│ cat    ┆ 3.0 ┆ 3      ┆ yes      ┆ b     │\n",
      "│ snake  ┆ 0.5 ┆ 2      ┆ no       ┆ c     │\n",
      "│ dog    ┆ NaN ┆ 3      ┆ yes      ┆ d     │\n",
      "│ dog    ┆ 5.0 ┆ 2      ┆ no       ┆ e     │\n",
      "│ cat    ┆ 1.5 ┆ 3      ┆ no       ┆ f     │\n",
      "│ snake  ┆ 4.5 ┆ 1      ┆ no       ┆ g     │\n",
      "│ cat    ┆ NaN ┆ 1      ┆ yes      ┆ h     │\n",
      "│ dog    ┆ 7.0 ┆ 2      ┆ no       ┆ i     │\n",
      "│ dog    ┆ 3.0 ┆ 1      ┆ no       ┆ j     │\n",
      "└────────┴─────┴────────┴──────────┴───────┘\n"
     ]
    }
   ],
   "source": [
    "print(df)"
   ]
  },
  {
   "cell_type": "code",
   "execution_count": 58,
   "id": "1fa33224-e360-42c2-b843-93463a196f4b",
   "metadata": {},
   "outputs": [],
   "source": [
    "df = df.filter(pl.col('index') != 'k')"
   ]
  },
  {
   "cell_type": "markdown",
   "id": "75408766-0f81-42f5-b99a-5ded90e455af",
   "metadata": {},
   "source": [
    "**17.** Count the number of each type of animal in `df`."
   ]
  },
  {
   "cell_type": "code",
   "execution_count": 62,
   "id": "278f0dbc-f39f-4fbd-89e8-c745a5cf760e",
   "metadata": {},
   "outputs": [
    {
     "name": "stdout",
     "output_type": "stream",
     "text": [
      "shape: (3, 2)\n",
      "┌────────┬───────┐\n",
      "│ animal ┆ count │\n",
      "│ ---    ┆ ---   │\n",
      "│ str    ┆ u32   │\n",
      "╞════════╪═══════╡\n",
      "│ dog    ┆ 4     │\n",
      "│ snake  ┆ 2     │\n",
      "│ cat    ┆ 4     │\n",
      "└────────┴───────┘\n"
     ]
    }
   ],
   "source": [
    "print(df.group_by(\"animal\").agg(\n",
    "    pl.len().alias(\"count\")\n",
    "))"
   ]
  },
  {
   "cell_type": "markdown",
   "id": "f7de72a5-3912-476f-b14d-731167e9e5d8",
   "metadata": {},
   "source": [
    "**18.** Sort `df` first by the values in the 'age' in *decending* order, then by the value in the 'visits' column in *ascending* order (so row `i` should be first, and row `d` should be last)."
   ]
  },
  {
   "cell_type": "code",
   "execution_count": 72,
   "id": "44d62d58-b8c5-4c66-a14d-54751ae33413",
   "metadata": {},
   "outputs": [
    {
     "name": "stdout",
     "output_type": "stream",
     "text": [
      "shape: (10, 5)\n",
      "┌────────┬─────┬────────┬──────────┬───────┐\n",
      "│ animal ┆ age ┆ visits ┆ priority ┆ index │\n",
      "│ ---    ┆ --- ┆ ---    ┆ ---      ┆ ---   │\n",
      "│ str    ┆ f64 ┆ i64    ┆ str      ┆ str   │\n",
      "╞════════╪═════╪════════╪══════════╪═══════╡\n",
      "│ cat    ┆ 2.5 ┆ 1      ┆ yes      ┆ a     │\n",
      "│ cat    ┆ 3.0 ┆ 3      ┆ yes      ┆ b     │\n",
      "│ snake  ┆ 0.5 ┆ 2      ┆ no       ┆ c     │\n",
      "│ dog    ┆ NaN ┆ 3      ┆ yes      ┆ d     │\n",
      "│ dog    ┆ 5.0 ┆ 2      ┆ no       ┆ e     │\n",
      "│ cat    ┆ 1.5 ┆ 3      ┆ no       ┆ f     │\n",
      "│ snake  ┆ 4.5 ┆ 1      ┆ no       ┆ g     │\n",
      "│ cat    ┆ NaN ┆ 1      ┆ yes      ┆ h     │\n",
      "│ dog    ┆ 7.0 ┆ 2      ┆ no       ┆ i     │\n",
      "│ dog    ┆ 3.0 ┆ 1      ┆ no       ┆ j     │\n",
      "└────────┴─────┴────────┴──────────┴───────┘\n"
     ]
    }
   ],
   "source": [
    "print(df)"
   ]
  },
  {
   "cell_type": "code",
   "execution_count": 73,
   "id": "32e93d51-f5f7-4f75-8cc7-02d85bb4cd52",
   "metadata": {},
   "outputs": [],
   "source": [
    "# turns nan into null\n",
    "df = df.with_columns([\n",
    "    pl.col(col).fill_nan(None).alias(col)\n",
    "    for col in df.columns\n",
    "    if df[col].dtype in [pl.Float32, pl.Float64]\n",
    "])"
   ]
  },
  {
   "cell_type": "code",
   "execution_count": 75,
   "id": "cb66bea6-a484-47f9-aa6a-5764e45c6809",
   "metadata": {},
   "outputs": [
    {
     "name": "stdout",
     "output_type": "stream",
     "text": [
      "shape: (10, 5)\n",
      "┌────────┬──────┬────────┬──────────┬───────┐\n",
      "│ animal ┆ age  ┆ visits ┆ priority ┆ index │\n",
      "│ ---    ┆ ---  ┆ ---    ┆ ---      ┆ ---   │\n",
      "│ str    ┆ f64  ┆ i64    ┆ str      ┆ str   │\n",
      "╞════════╪══════╪════════╪══════════╪═══════╡\n",
      "│ dog    ┆ 7.0  ┆ 2      ┆ no       ┆ i     │\n",
      "│ dog    ┆ 5.0  ┆ 2      ┆ no       ┆ e     │\n",
      "│ snake  ┆ 4.5  ┆ 1      ┆ no       ┆ g     │\n",
      "│ dog    ┆ 3.0  ┆ 1      ┆ no       ┆ j     │\n",
      "│ cat    ┆ 3.0  ┆ 3      ┆ yes      ┆ b     │\n",
      "│ cat    ┆ 2.5  ┆ 1      ┆ yes      ┆ a     │\n",
      "│ cat    ┆ 1.5  ┆ 3      ┆ no       ┆ f     │\n",
      "│ snake  ┆ 0.5  ┆ 2      ┆ no       ┆ c     │\n",
      "│ cat    ┆ null ┆ 1      ┆ yes      ┆ h     │\n",
      "│ dog    ┆ null ┆ 3      ┆ yes      ┆ d     │\n",
      "└────────┴──────┴────────┴──────────┴───────┘\n"
     ]
    }
   ],
   "source": [
    "print(df.sort(\n",
    "    by=[\"age\", \"visits\"],\n",
    "    descending=[True, False],\n",
    "    nulls_last=True\n",
    "))"
   ]
  },
  {
   "cell_type": "markdown",
   "id": "1af0f37e-b2d7-43a7-ae6c-d47099c3f54b",
   "metadata": {},
   "source": [
    "**19.** The 'priority' column contains the values 'yes' and 'no'. Replace this column with a column of boolean values: 'yes' should be `True` and 'no' should be `False`."
   ]
  },
  {
   "cell_type": "code",
   "execution_count": 84,
   "id": "32273ee7-3f91-4c8b-9840-cbaf0c97d071",
   "metadata": {},
   "outputs": [],
   "source": [
    "df = df.with_columns(\n",
    "    pl.col('priority')\n",
    "    .replace({'yes': True, 'no': False})\n",
    ")"
   ]
  },
  {
   "cell_type": "markdown",
   "id": "0488500a-3a63-47ec-a321-7e3b53497b47",
   "metadata": {},
   "source": [
    "**20.** In the 'animal' column, change the 'snake' entries to 'python'."
   ]
  },
  {
   "cell_type": "code",
   "execution_count": 89,
   "id": "26bdf966-5296-4821-9f1f-e44f9a88271e",
   "metadata": {},
   "outputs": [
    {
     "data": {
      "text/html": [
       "<div><style>\n",
       ".dataframe > thead > tr,\n",
       ".dataframe > tbody > tr {\n",
       "  text-align: right;\n",
       "  white-space: pre-wrap;\n",
       "}\n",
       "</style>\n",
       "<small>shape: (10, 5)</small><table border=\"1\" class=\"dataframe\"><thead><tr><th>animal</th><th>age</th><th>visits</th><th>priority</th><th>index</th></tr><tr><td>str</td><td>f64</td><td>i64</td><td>str</td><td>str</td></tr></thead><tbody><tr><td>&quot;cat&quot;</td><td>2.5</td><td>1</td><td>&quot;true&quot;</td><td>&quot;a&quot;</td></tr><tr><td>&quot;cat&quot;</td><td>3.0</td><td>3</td><td>&quot;true&quot;</td><td>&quot;b&quot;</td></tr><tr><td>&quot;python&quot;</td><td>0.5</td><td>2</td><td>&quot;false&quot;</td><td>&quot;c&quot;</td></tr><tr><td>&quot;dog&quot;</td><td>null</td><td>3</td><td>&quot;true&quot;</td><td>&quot;d&quot;</td></tr><tr><td>&quot;dog&quot;</td><td>5.0</td><td>2</td><td>&quot;false&quot;</td><td>&quot;e&quot;</td></tr><tr><td>&quot;cat&quot;</td><td>1.5</td><td>3</td><td>&quot;false&quot;</td><td>&quot;f&quot;</td></tr><tr><td>&quot;python&quot;</td><td>4.5</td><td>1</td><td>&quot;false&quot;</td><td>&quot;g&quot;</td></tr><tr><td>&quot;cat&quot;</td><td>null</td><td>1</td><td>&quot;true&quot;</td><td>&quot;h&quot;</td></tr><tr><td>&quot;dog&quot;</td><td>7.0</td><td>2</td><td>&quot;false&quot;</td><td>&quot;i&quot;</td></tr><tr><td>&quot;dog&quot;</td><td>3.0</td><td>1</td><td>&quot;false&quot;</td><td>&quot;j&quot;</td></tr></tbody></table></div>"
      ],
      "text/plain": [
       "shape: (10, 5)\n",
       "┌────────┬──────┬────────┬──────────┬───────┐\n",
       "│ animal ┆ age  ┆ visits ┆ priority ┆ index │\n",
       "│ ---    ┆ ---  ┆ ---    ┆ ---      ┆ ---   │\n",
       "│ str    ┆ f64  ┆ i64    ┆ str      ┆ str   │\n",
       "╞════════╪══════╪════════╪══════════╪═══════╡\n",
       "│ cat    ┆ 2.5  ┆ 1      ┆ true     ┆ a     │\n",
       "│ cat    ┆ 3.0  ┆ 3      ┆ true     ┆ b     │\n",
       "│ python ┆ 0.5  ┆ 2      ┆ false    ┆ c     │\n",
       "│ dog    ┆ null ┆ 3      ┆ true     ┆ d     │\n",
       "│ dog    ┆ 5.0  ┆ 2      ┆ false    ┆ e     │\n",
       "│ cat    ┆ 1.5  ┆ 3      ┆ false    ┆ f     │\n",
       "│ python ┆ 4.5  ┆ 1      ┆ false    ┆ g     │\n",
       "│ cat    ┆ null ┆ 1      ┆ true     ┆ h     │\n",
       "│ dog    ┆ 7.0  ┆ 2      ┆ false    ┆ i     │\n",
       "│ dog    ┆ 3.0  ┆ 1      ┆ false    ┆ j     │\n",
       "└────────┴──────┴────────┴──────────┴───────┘"
      ]
     },
     "execution_count": 89,
     "metadata": {},
     "output_type": "execute_result"
    }
   ],
   "source": [
    "df = df.with_columns(\n",
    "    pl.when(pl.col('animal') == 'snake')\n",
    "    .then(pl.lit('python'))\n",
    "    .otherwise(pl.col('animal'))\n",
    "    .alias('animal')\n",
    ")"
   ]
  },
  {
   "cell_type": "markdown",
   "id": "89b0a6f2-ffb1-4bfc-9683-adc3cb032db9",
   "metadata": {},
   "source": [
    "**21.** For each animal type and each number of visits, find the mean age. In other words, each row is an animal, each column is a number of visits and the values are the mean ages (*hint: use a pivot table*)."
   ]
  },
  {
   "cell_type": "code",
   "execution_count": 94,
   "id": "d445f5b7-99fe-4be3-be68-9f0cabdc4562",
   "metadata": {},
   "outputs": [
    {
     "name": "stdout",
     "output_type": "stream",
     "text": [
      "shape: (3, 4)\n",
      "┌────────┬─────┬──────┬─────┐\n",
      "│ animal ┆ 1   ┆ 3    ┆ 2   │\n",
      "│ ---    ┆ --- ┆ ---  ┆ --- │\n",
      "│ str    ┆ f64 ┆ f64  ┆ f64 │\n",
      "╞════════╪═════╪══════╪═════╡\n",
      "│ cat    ┆ 2.5 ┆ 2.25 ┆ 0.0 │\n",
      "│ snake  ┆ 4.5 ┆ 0.0  ┆ 0.5 │\n",
      "│ dog    ┆ 3.0 ┆ 0.0  ┆ 6.0 │\n",
      "└────────┴─────┴──────┴─────┘\n"
     ]
    }
   ],
   "source": [
    "print(\n",
    "    df.pivot(\n",
    "        values=\"age\",\n",
    "        index=\"animal\",\n",
    "        on=\"visits\",\n",
    "        aggregate_function=\"mean\"\n",
    "    )\n",
    "    .fill_null(0)\n",
    ")"
   ]
  },
  {
   "cell_type": "code",
   "execution_count": null,
   "id": "91bb2180-a970-4f10-951f-e477309db52a",
   "metadata": {},
   "outputs": [],
   "source": []
  }
 ],
 "metadata": {
  "kernelspec": {
   "display_name": "env_ml",
   "language": "python",
   "name": "env_ml"
  },
  "language_info": {
   "codemirror_mode": {
    "name": "ipython",
    "version": 3
   },
   "file_extension": ".py",
   "mimetype": "text/x-python",
   "name": "python",
   "nbconvert_exporter": "python",
   "pygments_lexer": "ipython3",
   "version": "3.12.7"
  }
 },
 "nbformat": 4,
 "nbformat_minor": 5
}

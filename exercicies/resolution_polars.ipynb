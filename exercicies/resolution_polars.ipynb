{
 "cells": [
  {
   "cell_type": "code",
   "execution_count": 3,
   "id": "9c340857-16bb-45d2-be95-7bd851012434",
   "metadata": {},
   "outputs": [],
   "source": [
    "import polars as pl\n",
    "import numpy as np"
   ]
  },
  {
   "cell_type": "code",
   "execution_count": 2,
   "id": "5128c703-4d7c-4756-a07a-753a5d8fec0e",
   "metadata": {
    "scrolled": true
   },
   "outputs": [
    {
     "name": "stdout",
     "output_type": "stream",
     "text": [
      "--------Version info---------\n",
      "Polars:              1.21.0\n",
      "Index type:          UInt32\n",
      "Platform:            Windows-11-10.0.26100-SP0\n",
      "Python:              3.12.7 (main, Oct 16 2024, 00:21:24) [MSC v.1929 64 bit (AMD64)]\n",
      "LTS CPU:             False\n",
      "\n",
      "----Optional dependencies----\n",
      "Azure CLI            <not installed>\n",
      "adbc_driver_manager  <not installed>\n",
      "altair               <not installed>\n",
      "azure.identity       <not installed>\n",
      "boto3                <not installed>\n",
      "cloudpickle          <not installed>\n",
      "connectorx           <not installed>\n",
      "deltalake            <not installed>\n",
      "fastexcel            <not installed>\n",
      "fsspec               <not installed>\n",
      "gevent               <not installed>\n",
      "google.auth          <not installed>\n",
      "great_tables         <not installed>\n",
      "matplotlib           3.10.0\n",
      "numpy                2.2.2\n",
      "openpyxl             <not installed>\n",
      "pandas               2.2.3\n",
      "pyarrow              19.0.0\n",
      "pydantic             2.10.6\n",
      "pyiceberg            <not installed>\n",
      "sqlalchemy           <not installed>\n",
      "torch                <not installed>\n",
      "xlsx2csv             <not installed>\n",
      "xlsxwriter           <not installed>\n"
     ]
    }
   ],
   "source": [
    "# pl.show_versions()"
   ]
  },
  {
   "cell_type": "markdown",
   "id": "5cb6077c-1b70-4f74-8d95-d8f6d4ff50fb",
   "metadata": {},
   "source": [
    "## DataFrame basics\n",
    "\n",
    "### A few of the fundamental routines for selecting, sorting, adding and aggregating data in DataFrames\n",
    "\n",
    "Difficulty: *easy*\n",
    "\n",
    "Note: remember to import numpy using:\n",
    "```python\n",
    "import numpy as np\n",
    "```\n",
    "\n",
    "Consider the following Python dictionary `data` and Python list `labels`:\n",
    "\n",
    "``` python\n",
    "data = {'animal': ['cat', 'cat', 'snake', 'dog', 'dog', 'cat', 'snake', 'cat', 'dog', 'dog'],\n",
    "        'age': [2.5, 3, 0.5, np.nan, 5, 2, 4.5, np.nan, 7, 3],\n",
    "        'visits': [1, 3, 2, 3, 2, 3, 1, 1, 2, 1],\n",
    "        'priority': ['yes', 'yes', 'no', 'yes', 'no', 'no', 'no', 'yes', 'no', 'no']}\n",
    "\n",
    "labels = ['a', 'b', 'c', 'd', 'e', 'f', 'g', 'h', 'i', 'j']\n",
    "```\n",
    "(This is just some meaningless data I made up with the theme of animals and trips to a vet.)\n",
    "\n",
    "**4.** Create a DataFrame `df` from this dictionary `data` which has the index `labels`."
   ]
  },
  {
   "cell_type": "code",
   "execution_count": 4,
   "id": "1014f214-7816-4a89-ba44-6b9c7320a70c",
   "metadata": {},
   "outputs": [],
   "source": [
    "data = {'animal': ['cat', 'cat', 'snake', 'dog', 'dog', 'cat', 'snake', 'cat', 'dog', 'dog'],\n",
    "        'age': [2.5, 3, 0.5, np.nan, 5, 2, 4.5, np.nan, 7, 3],\n",
    "        'visits': [1, 3, 2, 3, 2, 3, 1, 1, 2, 1],\n",
    "        'priority': ['yes', 'yes', 'no', 'yes', 'no', 'no', 'no', 'yes', 'no', 'no']}\n",
    "\n",
    "labels = ['a', 'b', 'c', 'd', 'e', 'f', 'g', 'h', 'i', 'j']"
   ]
  },
  {
   "cell_type": "code",
   "execution_count": 7,
   "id": "7795b3df-05ad-4cee-ae07-4b3215af3c3f",
   "metadata": {},
   "outputs": [],
   "source": [
    "# polars do not use indexes\n",
    "data['index'] = labels\n",
    "df = pl.DataFrame(data=data)"
   ]
  },
  {
   "cell_type": "code",
   "execution_count": 9,
   "id": "cdfadf58-a5e6-47f3-8e0e-fceef11b97ec",
   "metadata": {},
   "outputs": [
    {
     "data": {
      "text/html": [
       "<div><style>\n",
       ".dataframe > thead > tr,\n",
       ".dataframe > tbody > tr {\n",
       "  text-align: right;\n",
       "  white-space: pre-wrap;\n",
       "}\n",
       "</style>\n",
       "<small>shape: (5, 5)</small><table border=\"1\" class=\"dataframe\"><thead><tr><th>animal</th><th>age</th><th>visits</th><th>priority</th><th>index</th></tr><tr><td>str</td><td>f64</td><td>i64</td><td>str</td><td>str</td></tr></thead><tbody><tr><td>&quot;cat&quot;</td><td>2.5</td><td>1</td><td>&quot;yes&quot;</td><td>&quot;a&quot;</td></tr><tr><td>&quot;cat&quot;</td><td>3.0</td><td>3</td><td>&quot;yes&quot;</td><td>&quot;b&quot;</td></tr><tr><td>&quot;snake&quot;</td><td>0.5</td><td>2</td><td>&quot;no&quot;</td><td>&quot;c&quot;</td></tr><tr><td>&quot;dog&quot;</td><td>NaN</td><td>3</td><td>&quot;yes&quot;</td><td>&quot;d&quot;</td></tr><tr><td>&quot;dog&quot;</td><td>5.0</td><td>2</td><td>&quot;no&quot;</td><td>&quot;e&quot;</td></tr></tbody></table></div>"
      ],
      "text/plain": [
       "shape: (5, 5)\n",
       "┌────────┬─────┬────────┬──────────┬───────┐\n",
       "│ animal ┆ age ┆ visits ┆ priority ┆ index │\n",
       "│ ---    ┆ --- ┆ ---    ┆ ---      ┆ ---   │\n",
       "│ str    ┆ f64 ┆ i64    ┆ str      ┆ str   │\n",
       "╞════════╪═════╪════════╪══════════╪═══════╡\n",
       "│ cat    ┆ 2.5 ┆ 1      ┆ yes      ┆ a     │\n",
       "│ cat    ┆ 3.0 ┆ 3      ┆ yes      ┆ b     │\n",
       "│ snake  ┆ 0.5 ┆ 2      ┆ no       ┆ c     │\n",
       "│ dog    ┆ NaN ┆ 3      ┆ yes      ┆ d     │\n",
       "│ dog    ┆ 5.0 ┆ 2      ┆ no       ┆ e     │\n",
       "└────────┴─────┴────────┴──────────┴───────┘"
      ]
     },
     "execution_count": 9,
     "metadata": {},
     "output_type": "execute_result"
    }
   ],
   "source": [
    "df.head()"
   ]
  },
  {
   "cell_type": "code",
   "execution_count": 11,
   "id": "b0a87988-8b51-4b41-b547-8e7d057c5a02",
   "metadata": {},
   "outputs": [
    {
     "name": "stdout",
     "output_type": "stream",
     "text": [
      "shape: (10, 5)\n",
      "┌────────┬─────┬────────┬──────────┬───────┐\n",
      "│ animal ┆ age ┆ visits ┆ priority ┆ index │\n",
      "│ ---    ┆ --- ┆ ---    ┆ ---      ┆ ---   │\n",
      "│ str    ┆ f64 ┆ i64    ┆ str      ┆ str   │\n",
      "╞════════╪═════╪════════╪══════════╪═══════╡\n",
      "│ cat    ┆ 2.5 ┆ 1      ┆ yes      ┆ a     │\n",
      "│ cat    ┆ 3.0 ┆ 3      ┆ yes      ┆ b     │\n",
      "│ snake  ┆ 0.5 ┆ 2      ┆ no       ┆ c     │\n",
      "│ dog    ┆ NaN ┆ 3      ┆ yes      ┆ d     │\n",
      "│ dog    ┆ 5.0 ┆ 2      ┆ no       ┆ e     │\n",
      "│ cat    ┆ 2.0 ┆ 3      ┆ no       ┆ f     │\n",
      "│ snake  ┆ 4.5 ┆ 1      ┆ no       ┆ g     │\n",
      "│ cat    ┆ NaN ┆ 1      ┆ yes      ┆ h     │\n",
      "│ dog    ┆ 7.0 ┆ 2      ┆ no       ┆ i     │\n",
      "│ dog    ┆ 3.0 ┆ 1      ┆ no       ┆ j     │\n",
      "└────────┴─────┴────────┴──────────┴───────┘\n"
     ]
    }
   ],
   "source": [
    "print(df)"
   ]
  },
  {
   "cell_type": "code",
   "execution_count": 15,
   "id": "91b023cb-5cbe-4674-b7a6-f1ff8184c66f",
   "metadata": {},
   "outputs": [
    {
     "name": "stdout",
     "output_type": "stream",
     "text": [
      "shape: (9, 6)\n",
      "┌────────────┬────────┬──────┬──────────┬──────────┬───────┐\n",
      "│ statistic  ┆ animal ┆ age  ┆ visits   ┆ priority ┆ index │\n",
      "│ ---        ┆ ---    ┆ ---  ┆ ---      ┆ ---      ┆ ---   │\n",
      "│ str        ┆ str    ┆ f64  ┆ f64      ┆ str      ┆ str   │\n",
      "╞════════════╪════════╪══════╪══════════╪══════════╪═══════╡\n",
      "│ count      ┆ 10     ┆ 10.0 ┆ 10.0     ┆ 10       ┆ 10    │\n",
      "│ null_count ┆ 0      ┆ 0.0  ┆ 0.0      ┆ 0        ┆ 0     │\n",
      "│ mean       ┆ null   ┆ NaN  ┆ 1.9      ┆ null     ┆ null  │\n",
      "│ std        ┆ null   ┆ NaN  ┆ 0.875595 ┆ null     ┆ null  │\n",
      "│ min        ┆ cat    ┆ 0.5  ┆ 1.0      ┆ no       ┆ a     │\n",
      "│ 25%        ┆ null   ┆ 2.5  ┆ 1.0      ┆ null     ┆ null  │\n",
      "│ 50%        ┆ null   ┆ 4.5  ┆ 2.0      ┆ null     ┆ null  │\n",
      "│ 75%        ┆ null   ┆ 7.0  ┆ 3.0      ┆ null     ┆ null  │\n",
      "│ max        ┆ snake  ┆ 7.0  ┆ 3.0      ┆ yes      ┆ j     │\n",
      "└────────────┴────────┴──────┴──────────┴──────────┴───────┘\n"
     ]
    }
   ],
   "source": [
    "print(df.describe())"
   ]
  },
  {
   "cell_type": "code",
   "execution_count": 22,
   "id": "8b1754e7-e608-4751-9c3e-cec13ec7a56a",
   "metadata": {},
   "outputs": [
    {
     "data": {
      "text/html": [
       "<div><style>\n",
       ".dataframe > thead > tr,\n",
       ".dataframe > tbody > tr {\n",
       "  text-align: right;\n",
       "  white-space: pre-wrap;\n",
       "}\n",
       "</style>\n",
       "<small>shape: (3, 5)</small><table border=\"1\" class=\"dataframe\"><thead><tr><th>animal</th><th>age</th><th>visits</th><th>priority</th><th>index</th></tr><tr><td>str</td><td>f64</td><td>i64</td><td>str</td><td>str</td></tr></thead><tbody><tr><td>&quot;cat&quot;</td><td>2.5</td><td>1</td><td>&quot;yes&quot;</td><td>&quot;a&quot;</td></tr><tr><td>&quot;cat&quot;</td><td>3.0</td><td>3</td><td>&quot;yes&quot;</td><td>&quot;b&quot;</td></tr><tr><td>&quot;snake&quot;</td><td>0.5</td><td>2</td><td>&quot;no&quot;</td><td>&quot;c&quot;</td></tr></tbody></table></div>"
      ],
      "text/plain": [
       "shape: (3, 5)\n",
       "┌────────┬─────┬────────┬──────────┬───────┐\n",
       "│ animal ┆ age ┆ visits ┆ priority ┆ index │\n",
       "│ ---    ┆ --- ┆ ---    ┆ ---      ┆ ---   │\n",
       "│ str    ┆ f64 ┆ i64    ┆ str      ┆ str   │\n",
       "╞════════╪═════╪════════╪══════════╪═══════╡\n",
       "│ cat    ┆ 2.5 ┆ 1      ┆ yes      ┆ a     │\n",
       "│ cat    ┆ 3.0 ┆ 3      ┆ yes      ┆ b     │\n",
       "│ snake  ┆ 0.5 ┆ 2      ┆ no       ┆ c     │\n",
       "└────────┴─────┴────────┴──────────┴───────┘"
      ]
     },
     "execution_count": 22,
     "metadata": {},
     "output_type": "execute_result"
    }
   ],
   "source": [
    "df.slice(0, 3)"
   ]
  },
  {
   "cell_type": "code",
   "execution_count": 24,
   "id": "96b02817-60fd-4e93-a3ab-f3bab35ec4ae",
   "metadata": {},
   "outputs": [
    {
     "data": {
      "text/html": [
       "<div><style>\n",
       ".dataframe > thead > tr,\n",
       ".dataframe > tbody > tr {\n",
       "  text-align: right;\n",
       "  white-space: pre-wrap;\n",
       "}\n",
       "</style>\n",
       "<small>shape: (10, 2)</small><table border=\"1\" class=\"dataframe\"><thead><tr><th>animal</th><th>age</th></tr><tr><td>str</td><td>f64</td></tr></thead><tbody><tr><td>&quot;cat&quot;</td><td>2.5</td></tr><tr><td>&quot;cat&quot;</td><td>3.0</td></tr><tr><td>&quot;snake&quot;</td><td>0.5</td></tr><tr><td>&quot;dog&quot;</td><td>NaN</td></tr><tr><td>&quot;dog&quot;</td><td>5.0</td></tr><tr><td>&quot;cat&quot;</td><td>2.0</td></tr><tr><td>&quot;snake&quot;</td><td>4.5</td></tr><tr><td>&quot;cat&quot;</td><td>NaN</td></tr><tr><td>&quot;dog&quot;</td><td>7.0</td></tr><tr><td>&quot;dog&quot;</td><td>3.0</td></tr></tbody></table></div>"
      ],
      "text/plain": [
       "shape: (10, 2)\n",
       "┌────────┬─────┐\n",
       "│ animal ┆ age │\n",
       "│ ---    ┆ --- │\n",
       "│ str    ┆ f64 │\n",
       "╞════════╪═════╡\n",
       "│ cat    ┆ 2.5 │\n",
       "│ cat    ┆ 3.0 │\n",
       "│ snake  ┆ 0.5 │\n",
       "│ dog    ┆ NaN │\n",
       "│ dog    ┆ 5.0 │\n",
       "│ cat    ┆ 2.0 │\n",
       "│ snake  ┆ 4.5 │\n",
       "│ cat    ┆ NaN │\n",
       "│ dog    ┆ 7.0 │\n",
       "│ dog    ┆ 3.0 │\n",
       "└────────┴─────┘"
      ]
     },
     "execution_count": 24,
     "metadata": {},
     "output_type": "execute_result"
    }
   ],
   "source": [
    "df.select([\"animal\", \"age\"])\n",
    "df[[\"animal\", \"age\"]]"
   ]
  },
  {
   "cell_type": "code",
   "execution_count": null,
   "id": "3e6faed3-0b44-4ac5-8857-19c0184a635f",
   "metadata": {},
   "outputs": [],
   "source": []
  }
 ],
 "metadata": {
  "kernelspec": {
   "display_name": "env_ml",
   "language": "python",
   "name": "env_ml"
  },
  "language_info": {
   "codemirror_mode": {
    "name": "ipython",
    "version": 3
   },
   "file_extension": ".py",
   "mimetype": "text/x-python",
   "name": "python",
   "nbconvert_exporter": "python",
   "pygments_lexer": "ipython3",
   "version": "3.12.7"
  }
 },
 "nbformat": 4,
 "nbformat_minor": 5
}
